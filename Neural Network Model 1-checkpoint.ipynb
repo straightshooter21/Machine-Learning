{
 "cells": [
  {
   "cell_type": "code",
   "execution_count": 49,
   "id": "9e54ec36",
   "metadata": {},
   "outputs": [],
   "source": [
    "import numpy as np\n",
    "import tensorflow as tf\n",
    "from tensorflow.keras.layers import Dense, Input\n",
    "from tensorflow.keras import Sequential\n",
    "from tensorflow.keras.activations import sigmoid"
   ]
  },
  {
   "cell_type": "code",
   "execution_count": 71,
   "id": "94c3f4e8",
   "metadata": {},
   "outputs": [
    {
     "name": "stdout",
     "output_type": "stream",
     "text": [
      "(1, 2)\n"
     ]
    }
   ],
   "source": [
    "#Manual implementation\n",
    "X_train = np.array([[200,17]])\n",
    "y_train = np.array([[1],[0],[0],[1],[0]])\n",
    "print(X_train.shape)"
   ]
  },
  {
   "cell_type": "code",
   "execution_count": 72,
   "id": "e53ce298",
   "metadata": {},
   "outputs": [],
   "source": [
    "def sigmoid(z):\n",
    "    g = 1/(1 + np.exp(-z))\n",
    "    return g"
   ]
  },
  {
   "cell_type": "code",
   "execution_count": 104,
   "id": "9a141e39",
   "metadata": {},
   "outputs": [],
   "source": [
    "#Construct 3 layers, sigmoid activation, 1 layer = 5 neurons, 2 layer = 3 neurons, 3 layer = 1 neuron\n",
    "def layer1(x):\n",
    "    w1_1 = np.array([[2,3]])\n",
    "    b1_1 = np.array([-1])\n",
    "    w1_2 = np.array([[-1,4]])\n",
    "    b1_2 = np.array([3])\n",
    "    w1_3 = np.array([[6,2]])\n",
    "    b1_3 = np.array([-3])\n",
    "    w1_4 = np.array([[1,3]])\n",
    "    b1_4 = np.array([4])\n",
    "    z1_1 = np.dot(w1_1, x[0]) + b1_1\n",
    "    z1_2 = np.dot(w1_2, x[0]) + b1_2\n",
    "    z1_3 = np.dot(w1_3, x[0]) + b1_3\n",
    "    z1_4 = np.dot(w1_4, x[0]) + b1_4\n",
    "    a1_1 = sigmoid(z1_1)\n",
    "    a1_2 = sigmoid(z1_2)\n",
    "    a1_3 = sigmoid(z1_3)\n",
    "    a1_4 = sigmoid(z1_4)\n",
    "    a1 = np.array([a1_1, a1_2, a1_3, a1_4])\n",
    "    return a1"
   ]
  },
  {
   "cell_type": "code",
   "execution_count": 105,
   "id": "aadc4e04",
   "metadata": {},
   "outputs": [
    {
     "name": "stdout",
     "output_type": "stream",
     "text": [
      "[[1.00000000e+00]\n",
      " [9.46262947e-57]\n",
      " [1.00000000e+00]\n",
      " [1.00000000e+00]]\n"
     ]
    }
   ],
   "source": [
    "a1 = layer1(X_train)\n",
    "print(a1)"
   ]
  },
  {
   "cell_type": "code",
   "execution_count": 112,
   "id": "c8957fa9",
   "metadata": {},
   "outputs": [],
   "source": [
    "def layer2(a):\n",
    "    w2_1 = np.array([2,2,1,3])\n",
    "    b2_1 = np.array([-4])\n",
    "    w2_2 = np.array([3,4,1,1])\n",
    "    b2_2 = np.array([5])\n",
    "    w2_3 = np.array([1,3,2,1])\n",
    "    b2_3 = np.array([-3])\n",
    "    z2_1 = np.dot(w2_1, a) + b2_1\n",
    "    z2_2 = np.dot(w2_2, a) + b2_2\n",
    "    z2_3 = np.dot(w2_3, a) + b2_3\n",
    "    a2_1 = sigmoid(z2_1)\n",
    "    a2_2 = sigmoid(z2_2)\n",
    "    a2_3 = sigmoid(z2_3)\n",
    "    a2 = np.array([a2_1, a2_2, a2_3])\n",
    "    return a2"
   ]
  },
  {
   "cell_type": "code",
   "execution_count": 113,
   "id": "958c4766",
   "metadata": {},
   "outputs": [
    {
     "name": "stdout",
     "output_type": "stream",
     "text": [
      "[[0.88079708]\n",
      " [0.9999546 ]\n",
      " [0.73105858]]\n"
     ]
    }
   ],
   "source": [
    "a2 = layer2(a1)\n",
    "print(a2)"
   ]
  },
  {
   "cell_type": "code",
   "execution_count": 122,
   "id": "1c50d909",
   "metadata": {},
   "outputs": [],
   "source": [
    "def layer3(a):\n",
    "    w3_1 = np.array([[1, -4, 2]])\n",
    "    b3_1 = np.array([3])\n",
    "    z3_1 = np.dot(w3_1, a) + b3_1\n",
    "    a3 = sigmoid(z3_1)\n",
    "    return a3"
   ]
  },
  {
   "cell_type": "code",
   "execution_count": 123,
   "id": "0c8a68a7",
   "metadata": {},
   "outputs": [
    {
     "name": "stdout",
     "output_type": "stream",
     "text": [
      "[[0.79299859]]\n"
     ]
    }
   ],
   "source": [
    "a3 = layer3(a2)\n",
    "print(a3)"
   ]
  },
  {
   "cell_type": "code",
   "execution_count": 124,
   "id": "e47623f1",
   "metadata": {},
   "outputs": [],
   "source": [
    "if a3 >= 0.5:\n",
    "    yhat = 1\n",
    "else:\n",
    "    yhat = 0"
   ]
  },
  {
   "cell_type": "code",
   "execution_count": null,
   "id": "7e35f287",
   "metadata": {},
   "outputs": [],
   "source": [
    "#tensoriflow implementation\n"
   ]
  }
 ],
 "metadata": {
  "kernelspec": {
   "display_name": "Python 3 (ipykernel)",
   "language": "python",
   "name": "python3"
  },
  "language_info": {
   "codemirror_mode": {
    "name": "ipython",
    "version": 3
   },
   "file_extension": ".py",
   "mimetype": "text/x-python",
   "name": "python",
   "nbconvert_exporter": "python",
   "pygments_lexer": "ipython3",
   "version": "3.11.1"
  }
 },
 "nbformat": 4,
 "nbformat_minor": 5
}
